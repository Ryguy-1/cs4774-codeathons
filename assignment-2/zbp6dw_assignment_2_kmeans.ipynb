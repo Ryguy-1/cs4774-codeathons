{
  "cells": [
    {
      "cell_type": "markdown",
      "metadata": {
        "id": "7cSXh8dy3_tf"
      },
      "source": [
        "# Assignment 2: Clustering California Housing with K-means"
      ]
    },
    {
      "cell_type": "markdown",
      "metadata": {
        "id": "Dp4lehex3_ti"
      },
      "source": [
        "### CS 4774 Machine Learning - Department of Computer Science - University of Virginia\n",
        "\"Tonight, more than 130,000 Californians will go to sleep homeless. That’s enough to fill Dodger Stadium, AT&T Park and Petco Park. The biggest culprit is rising housing costs. From 2000 to 2014, median rent in California increased by more than one-third, while real incomes for renters fell by 7 percent. Today, 1.5 million Californians spend more than half their income on housing. This crisis threatens not just low-income families but our entire economy, driving businesses to relocate to states in which their employees can afford to live. - **Business Insider, Sep 2018.**\"\n",
        "\n",
        "![Half of the homes in San Franciso is now one million or above](https://www.travelinusa.us/wp-content/uploads/sites/3/2017/11/Painted-Ladies-San-Francisco-01.jpg).\n",
        "\n",
        "In this assignment, you will attempt to cluster the California Housing by implementing and analyzing the k-means algorithm to the data. K-Means is one of the most popular clustering algorithms. K-means stores k-centroids that it uses to define clusters. A point is considered to be in a particular cluster if it is closer to that cluster's centroid than any other centroid. For references, you may refer to my lecture on K-means or Chapter 2 of the textbook if you need additional sample codes to help with your assignment. For deliverables, you must write code in Python and submit this Jupyter Notebook file (.ipynb) to earn a total of 100 pts. You will gain points depending on how you perform in the following sections.\n",
        "\n",
        "**Note**: In order for your assignment to be graded, you must save your Notebook filename under this format: **yourUvaUserId_assignment_2_kmeans.ipynb**.\n"
      ]
    },
    {
      "cell_type": "markdown",
      "metadata": {
        "id": "OLpK737R3_tk"
      },
      "source": [
        "---\n",
        "## 1. PRE-PROCESSING THE DATA (10 pts)\n",
        "\n",
        "Download the California Housing dataset from the below link. This dataset includes statistics about the median income, median age, average number of rooms per person, average number of persons in a household etc. The statistics were gathered per geographical block.\n",
        "\n",
        "**Data Acquiring:** Download the dataset from https://www.kaggle.com/camnugent/california-housing-prices\n",
        "\n",
        "**Data Discovery, Visualization, and Cleaning:** Fortunately, this step have been given to you from chapter 2. However, you should review them and write the code necessary for the purposes of this assignment."
      ]
    },
    {
      "cell_type": "code",
      "execution_count": 209,
      "metadata": {},
      "outputs": [],
      "source": [
        "import numpy as np\n",
        "import pandas as pd\n",
        "import os\n",
        "\n",
        "RANDOM_SEED = 42\n",
        "np.random.seed(RANDOM_SEED)\n",
        "\n",
        "%matplotlib inline\n",
        "import matplotlib.pyplot as plt\n",
        "\n",
        "pd.set_option('display.max_rows', None)\n",
        "pd.set_option('display.max_columns', None)\n",
        "pd.set_option('display.width', None)\n",
        "pd.set_option('display.max_colwidth', None)"
      ]
    },
    {
      "cell_type": "code",
      "execution_count": 210,
      "metadata": {},
      "outputs": [
        {
          "data": {
            "text/html": [
              "<div>\n",
              "<style scoped>\n",
              "    .dataframe tbody tr th:only-of-type {\n",
              "        vertical-align: middle;\n",
              "    }\n",
              "\n",
              "    .dataframe tbody tr th {\n",
              "        vertical-align: top;\n",
              "    }\n",
              "\n",
              "    .dataframe thead th {\n",
              "        text-align: right;\n",
              "    }\n",
              "</style>\n",
              "<table border=\"1\" class=\"dataframe\">\n",
              "  <thead>\n",
              "    <tr style=\"text-align: right;\">\n",
              "      <th></th>\n",
              "      <th>longitude</th>\n",
              "      <th>latitude</th>\n",
              "      <th>housing_median_age</th>\n",
              "      <th>total_rooms</th>\n",
              "      <th>total_bedrooms</th>\n",
              "      <th>population</th>\n",
              "      <th>households</th>\n",
              "      <th>median_income</th>\n",
              "      <th>median_house_value</th>\n",
              "      <th>ocean_proximity</th>\n",
              "    </tr>\n",
              "  </thead>\n",
              "  <tbody>\n",
              "    <tr>\n",
              "      <th>0</th>\n",
              "      <td>-122.23</td>\n",
              "      <td>37.88</td>\n",
              "      <td>41.0</td>\n",
              "      <td>880.0</td>\n",
              "      <td>129.0</td>\n",
              "      <td>322.0</td>\n",
              "      <td>126.0</td>\n",
              "      <td>8.3252</td>\n",
              "      <td>452600.0</td>\n",
              "      <td>NEAR BAY</td>\n",
              "    </tr>\n",
              "    <tr>\n",
              "      <th>1</th>\n",
              "      <td>-122.22</td>\n",
              "      <td>37.86</td>\n",
              "      <td>21.0</td>\n",
              "      <td>7099.0</td>\n",
              "      <td>1106.0</td>\n",
              "      <td>2401.0</td>\n",
              "      <td>1138.0</td>\n",
              "      <td>8.3014</td>\n",
              "      <td>358500.0</td>\n",
              "      <td>NEAR BAY</td>\n",
              "    </tr>\n",
              "    <tr>\n",
              "      <th>2</th>\n",
              "      <td>-122.24</td>\n",
              "      <td>37.85</td>\n",
              "      <td>52.0</td>\n",
              "      <td>1467.0</td>\n",
              "      <td>190.0</td>\n",
              "      <td>496.0</td>\n",
              "      <td>177.0</td>\n",
              "      <td>7.2574</td>\n",
              "      <td>352100.0</td>\n",
              "      <td>NEAR BAY</td>\n",
              "    </tr>\n",
              "    <tr>\n",
              "      <th>3</th>\n",
              "      <td>-122.25</td>\n",
              "      <td>37.85</td>\n",
              "      <td>52.0</td>\n",
              "      <td>1274.0</td>\n",
              "      <td>235.0</td>\n",
              "      <td>558.0</td>\n",
              "      <td>219.0</td>\n",
              "      <td>5.6431</td>\n",
              "      <td>341300.0</td>\n",
              "      <td>NEAR BAY</td>\n",
              "    </tr>\n",
              "    <tr>\n",
              "      <th>4</th>\n",
              "      <td>-122.25</td>\n",
              "      <td>37.85</td>\n",
              "      <td>52.0</td>\n",
              "      <td>1627.0</td>\n",
              "      <td>280.0</td>\n",
              "      <td>565.0</td>\n",
              "      <td>259.0</td>\n",
              "      <td>3.8462</td>\n",
              "      <td>342200.0</td>\n",
              "      <td>NEAR BAY</td>\n",
              "    </tr>\n",
              "    <tr>\n",
              "      <th>5</th>\n",
              "      <td>-122.25</td>\n",
              "      <td>37.85</td>\n",
              "      <td>52.0</td>\n",
              "      <td>919.0</td>\n",
              "      <td>213.0</td>\n",
              "      <td>413.0</td>\n",
              "      <td>193.0</td>\n",
              "      <td>4.0368</td>\n",
              "      <td>269700.0</td>\n",
              "      <td>NEAR BAY</td>\n",
              "    </tr>\n",
              "    <tr>\n",
              "      <th>6</th>\n",
              "      <td>-122.25</td>\n",
              "      <td>37.84</td>\n",
              "      <td>52.0</td>\n",
              "      <td>2535.0</td>\n",
              "      <td>489.0</td>\n",
              "      <td>1094.0</td>\n",
              "      <td>514.0</td>\n",
              "      <td>3.6591</td>\n",
              "      <td>299200.0</td>\n",
              "      <td>NEAR BAY</td>\n",
              "    </tr>\n",
              "    <tr>\n",
              "      <th>7</th>\n",
              "      <td>-122.25</td>\n",
              "      <td>37.84</td>\n",
              "      <td>52.0</td>\n",
              "      <td>3104.0</td>\n",
              "      <td>687.0</td>\n",
              "      <td>1157.0</td>\n",
              "      <td>647.0</td>\n",
              "      <td>3.1200</td>\n",
              "      <td>241400.0</td>\n",
              "      <td>NEAR BAY</td>\n",
              "    </tr>\n",
              "    <tr>\n",
              "      <th>8</th>\n",
              "      <td>-122.26</td>\n",
              "      <td>37.84</td>\n",
              "      <td>42.0</td>\n",
              "      <td>2555.0</td>\n",
              "      <td>665.0</td>\n",
              "      <td>1206.0</td>\n",
              "      <td>595.0</td>\n",
              "      <td>2.0804</td>\n",
              "      <td>226700.0</td>\n",
              "      <td>NEAR BAY</td>\n",
              "    </tr>\n",
              "    <tr>\n",
              "      <th>9</th>\n",
              "      <td>-122.25</td>\n",
              "      <td>37.84</td>\n",
              "      <td>52.0</td>\n",
              "      <td>3549.0</td>\n",
              "      <td>707.0</td>\n",
              "      <td>1551.0</td>\n",
              "      <td>714.0</td>\n",
              "      <td>3.6912</td>\n",
              "      <td>261100.0</td>\n",
              "      <td>NEAR BAY</td>\n",
              "    </tr>\n",
              "  </tbody>\n",
              "</table>\n",
              "</div>"
            ],
            "text/plain": [
              "   longitude  latitude  housing_median_age  total_rooms  total_bedrooms  \\\n",
              "0    -122.23     37.88                41.0        880.0           129.0   \n",
              "1    -122.22     37.86                21.0       7099.0          1106.0   \n",
              "2    -122.24     37.85                52.0       1467.0           190.0   \n",
              "3    -122.25     37.85                52.0       1274.0           235.0   \n",
              "4    -122.25     37.85                52.0       1627.0           280.0   \n",
              "5    -122.25     37.85                52.0        919.0           213.0   \n",
              "6    -122.25     37.84                52.0       2535.0           489.0   \n",
              "7    -122.25     37.84                52.0       3104.0           687.0   \n",
              "8    -122.26     37.84                42.0       2555.0           665.0   \n",
              "9    -122.25     37.84                52.0       3549.0           707.0   \n",
              "\n",
              "   population  households  median_income  median_house_value ocean_proximity  \n",
              "0       322.0       126.0         8.3252            452600.0        NEAR BAY  \n",
              "1      2401.0      1138.0         8.3014            358500.0        NEAR BAY  \n",
              "2       496.0       177.0         7.2574            352100.0        NEAR BAY  \n",
              "3       558.0       219.0         5.6431            341300.0        NEAR BAY  \n",
              "4       565.0       259.0         3.8462            342200.0        NEAR BAY  \n",
              "5       413.0       193.0         4.0368            269700.0        NEAR BAY  \n",
              "6      1094.0       514.0         3.6591            299200.0        NEAR BAY  \n",
              "7      1157.0       647.0         3.1200            241400.0        NEAR BAY  \n",
              "8      1206.0       595.0         2.0804            226700.0        NEAR BAY  \n",
              "9      1551.0       714.0         3.6912            261100.0        NEAR BAY  "
            ]
          },
          "execution_count": 210,
          "metadata": {},
          "output_type": "execute_result"
        }
      ],
      "source": [
        "HOUSING_CSV_DATA_PATH = \"housing.csv\"\n",
        "housing_df = pd.read_csv(HOUSING_CSV_DATA_PATH)\n",
        "housing_df.head(10)"
      ]
    },
    {
      "cell_type": "code",
      "execution_count": 211,
      "metadata": {},
      "outputs": [
        {
          "name": "stdout",
          "output_type": "stream",
          "text": [
            "<class 'pandas.core.frame.DataFrame'>\n",
            "RangeIndex: 20640 entries, 0 to 20639\n",
            "Data columns (total 10 columns):\n",
            " #   Column              Non-Null Count  Dtype  \n",
            "---  ------              --------------  -----  \n",
            " 0   longitude           20640 non-null  float64\n",
            " 1   latitude            20640 non-null  float64\n",
            " 2   housing_median_age  20640 non-null  float64\n",
            " 3   total_rooms         20640 non-null  float64\n",
            " 4   total_bedrooms      20433 non-null  float64\n",
            " 5   population          20640 non-null  float64\n",
            " 6   households          20640 non-null  float64\n",
            " 7   median_income       20640 non-null  float64\n",
            " 8   median_house_value  20640 non-null  float64\n",
            " 9   ocean_proximity     20640 non-null  object \n",
            "dtypes: float64(9), object(1)\n",
            "memory usage: 1.6+ MB\n"
          ]
        }
      ],
      "source": [
        "housing_df.info()"
      ]
    },
    {
      "cell_type": "code",
      "execution_count": 212,
      "metadata": {},
      "outputs": [
        {
          "name": "stdout",
          "output_type": "stream",
          "text": [
            "Approx size of dataset in memory (MB): 1.57\n",
            "Approx size of dataset on disk (MB): 1.36\n"
          ]
        }
      ],
      "source": [
        "print(f\"Approx size of dataset in memory (MB): {housing_df.memory_usage().sum() / 1024**2:.2f}\")\n",
        "print(f\"Approx size of dataset on disk (MB): {os.path.getsize(HOUSING_CSV_DATA_PATH) / 1024**2:.2f}\")"
      ]
    },
    {
      "cell_type": "code",
      "execution_count": 213,
      "metadata": {},
      "outputs": [
        {
          "name": "stdout",
          "output_type": "stream",
          "text": [
            "Number of entries: 20640\n"
          ]
        }
      ],
      "source": [
        "print(f\"Number of entries: {len(housing_df)}\")"
      ]
    },
    {
      "cell_type": "code",
      "execution_count": 214,
      "metadata": {},
      "outputs": [
        {
          "name": "stdout",
          "output_type": "stream",
          "text": [
            "Number of features: 10\n",
            "Number of explanatory features (excluding final prediction): 9\n"
          ]
        }
      ],
      "source": [
        "print(f\"Number of features: {len(housing_df.columns)}\")\n",
        "print(f\"Number of explanatory features (excluding final prediction): {len(housing_df.columns) - 1}\")"
      ]
    },
    {
      "cell_type": "code",
      "execution_count": 215,
      "metadata": {},
      "outputs": [
        {
          "name": "stdout",
          "output_type": "stream",
          "text": [
            "Contains categorical data: Yes\n",
            "All categorical features (1): Index(['ocean_proximity'], dtype='object')\n"
          ]
        }
      ],
      "source": [
        "categorical_features_cols = housing_df.select_dtypes(include=['object']).columns\n",
        "print(f\"Contains categorical data: {'Yes' if len(categorical_features_cols) > 0 else 'No'}\")\n",
        "print(f\"All categorical features ({len(categorical_features_cols)}): {categorical_features_cols}\")"
      ]
    },
    {
      "cell_type": "code",
      "execution_count": 216,
      "metadata": {},
      "outputs": [
        {
          "name": "stdout",
          "output_type": "stream",
          "text": [
            "Number of unique values for each categorical feature:\n",
            "ocean_proximity    5\n",
            "dtype: int64\n"
          ]
        }
      ],
      "source": [
        "categorical_features_unique_vals = housing_df[categorical_features_cols].nunique(dropna=True)\n",
        "print(f\"Number of unique values for each categorical feature:\\n{categorical_features_unique_vals}\")"
      ]
    },
    {
      "cell_type": "code",
      "execution_count": 217,
      "metadata": {},
      "outputs": [
        {
          "name": "stdout",
          "output_type": "stream",
          "text": [
            "Features with missing values (1):\n",
            "total_bedrooms    207\n",
            "dtype: int64\n"
          ]
        }
      ],
      "source": [
        "counts_null_per_feature = housing_df.isnull().sum()\n",
        "null_feature_counts = counts_null_per_feature[counts_null_per_feature > 0]\n",
        "\n",
        "print(f\"Features with missing values ({len(null_feature_counts)}):\")\n",
        "print(null_feature_counts)"
      ]
    },
    {
      "cell_type": "code",
      "execution_count": 218,
      "metadata": {},
      "outputs": [
        {
          "data": {
            "text/html": [
              "<div>\n",
              "<style scoped>\n",
              "    .dataframe tbody tr th:only-of-type {\n",
              "        vertical-align: middle;\n",
              "    }\n",
              "\n",
              "    .dataframe tbody tr th {\n",
              "        vertical-align: top;\n",
              "    }\n",
              "\n",
              "    .dataframe thead th {\n",
              "        text-align: right;\n",
              "    }\n",
              "</style>\n",
              "<table border=\"1\" class=\"dataframe\">\n",
              "  <thead>\n",
              "    <tr style=\"text-align: right;\">\n",
              "      <th></th>\n",
              "      <th>longitude</th>\n",
              "      <th>latitude</th>\n",
              "      <th>housing_median_age</th>\n",
              "      <th>total_rooms</th>\n",
              "      <th>total_bedrooms</th>\n",
              "      <th>population</th>\n",
              "      <th>households</th>\n",
              "      <th>median_income</th>\n",
              "      <th>median_house_value</th>\n",
              "    </tr>\n",
              "  </thead>\n",
              "  <tbody>\n",
              "    <tr>\n",
              "      <th>count</th>\n",
              "      <td>20640.000000</td>\n",
              "      <td>20640.000000</td>\n",
              "      <td>20640.000000</td>\n",
              "      <td>20640.000000</td>\n",
              "      <td>20433.000000</td>\n",
              "      <td>20640.000000</td>\n",
              "      <td>20640.000000</td>\n",
              "      <td>20640.000000</td>\n",
              "      <td>20640.000000</td>\n",
              "    </tr>\n",
              "    <tr>\n",
              "      <th>mean</th>\n",
              "      <td>-119.569704</td>\n",
              "      <td>35.631861</td>\n",
              "      <td>28.639486</td>\n",
              "      <td>2635.763081</td>\n",
              "      <td>537.870553</td>\n",
              "      <td>1425.476744</td>\n",
              "      <td>499.539680</td>\n",
              "      <td>3.870671</td>\n",
              "      <td>206855.816909</td>\n",
              "    </tr>\n",
              "    <tr>\n",
              "      <th>std</th>\n",
              "      <td>2.003532</td>\n",
              "      <td>2.135952</td>\n",
              "      <td>12.585558</td>\n",
              "      <td>2181.615252</td>\n",
              "      <td>421.385070</td>\n",
              "      <td>1132.462122</td>\n",
              "      <td>382.329753</td>\n",
              "      <td>1.899822</td>\n",
              "      <td>115395.615874</td>\n",
              "    </tr>\n",
              "    <tr>\n",
              "      <th>min</th>\n",
              "      <td>-124.350000</td>\n",
              "      <td>32.540000</td>\n",
              "      <td>1.000000</td>\n",
              "      <td>2.000000</td>\n",
              "      <td>1.000000</td>\n",
              "      <td>3.000000</td>\n",
              "      <td>1.000000</td>\n",
              "      <td>0.499900</td>\n",
              "      <td>14999.000000</td>\n",
              "    </tr>\n",
              "    <tr>\n",
              "      <th>25%</th>\n",
              "      <td>-121.800000</td>\n",
              "      <td>33.930000</td>\n",
              "      <td>18.000000</td>\n",
              "      <td>1447.750000</td>\n",
              "      <td>296.000000</td>\n",
              "      <td>787.000000</td>\n",
              "      <td>280.000000</td>\n",
              "      <td>2.563400</td>\n",
              "      <td>119600.000000</td>\n",
              "    </tr>\n",
              "    <tr>\n",
              "      <th>50%</th>\n",
              "      <td>-118.490000</td>\n",
              "      <td>34.260000</td>\n",
              "      <td>29.000000</td>\n",
              "      <td>2127.000000</td>\n",
              "      <td>435.000000</td>\n",
              "      <td>1166.000000</td>\n",
              "      <td>409.000000</td>\n",
              "      <td>3.534800</td>\n",
              "      <td>179700.000000</td>\n",
              "    </tr>\n",
              "    <tr>\n",
              "      <th>75%</th>\n",
              "      <td>-118.010000</td>\n",
              "      <td>37.710000</td>\n",
              "      <td>37.000000</td>\n",
              "      <td>3148.000000</td>\n",
              "      <td>647.000000</td>\n",
              "      <td>1725.000000</td>\n",
              "      <td>605.000000</td>\n",
              "      <td>4.743250</td>\n",
              "      <td>264725.000000</td>\n",
              "    </tr>\n",
              "    <tr>\n",
              "      <th>max</th>\n",
              "      <td>-114.310000</td>\n",
              "      <td>41.950000</td>\n",
              "      <td>52.000000</td>\n",
              "      <td>39320.000000</td>\n",
              "      <td>6445.000000</td>\n",
              "      <td>35682.000000</td>\n",
              "      <td>6082.000000</td>\n",
              "      <td>15.000100</td>\n",
              "      <td>500001.000000</td>\n",
              "    </tr>\n",
              "  </tbody>\n",
              "</table>\n",
              "</div>"
            ],
            "text/plain": [
              "          longitude      latitude  housing_median_age   total_rooms  \\\n",
              "count  20640.000000  20640.000000        20640.000000  20640.000000   \n",
              "mean    -119.569704     35.631861           28.639486   2635.763081   \n",
              "std        2.003532      2.135952           12.585558   2181.615252   \n",
              "min     -124.350000     32.540000            1.000000      2.000000   \n",
              "25%     -121.800000     33.930000           18.000000   1447.750000   \n",
              "50%     -118.490000     34.260000           29.000000   2127.000000   \n",
              "75%     -118.010000     37.710000           37.000000   3148.000000   \n",
              "max     -114.310000     41.950000           52.000000  39320.000000   \n",
              "\n",
              "       total_bedrooms    population    households  median_income  \\\n",
              "count    20433.000000  20640.000000  20640.000000   20640.000000   \n",
              "mean       537.870553   1425.476744    499.539680       3.870671   \n",
              "std        421.385070   1132.462122    382.329753       1.899822   \n",
              "min          1.000000      3.000000      1.000000       0.499900   \n",
              "25%        296.000000    787.000000    280.000000       2.563400   \n",
              "50%        435.000000   1166.000000    409.000000       3.534800   \n",
              "75%        647.000000   1725.000000    605.000000       4.743250   \n",
              "max       6445.000000  35682.000000   6082.000000      15.000100   \n",
              "\n",
              "       median_house_value  \n",
              "count        20640.000000  \n",
              "mean        206855.816909  \n",
              "std         115395.615874  \n",
              "min          14999.000000  \n",
              "25%         119600.000000  \n",
              "50%         179700.000000  \n",
              "75%         264725.000000  \n",
              "max         500001.000000  "
            ]
          },
          "execution_count": 218,
          "metadata": {},
          "output_type": "execute_result"
        }
      ],
      "source": [
        "housing_df.describe()"
      ]
    },
    {
      "cell_type": "code",
      "execution_count": 219,
      "metadata": {},
      "outputs": [
        {
          "data": {
            "image/png": "[encoded data removed]",
            "text/plain": [
              "<Figure size 1000x600 with 9 Axes>"
            ]
          },
          "metadata": {},
          "output_type": "display_data"
        }
      ],
      "source": [
        "housing_df.hist(bins=50, figsize=(10,6))\n",
        "plt.show()"
      ]
    },
    {
      "cell_type": "code",
      "execution_count": 220,
      "metadata": {},
      "outputs": [
        {
          "name": "stdout",
          "output_type": "stream",
          "text": [
            "Train set shape: (16512, 10)\n",
            "Test set shape: (4128, 10)\n"
          ]
        }
      ],
      "source": [
        "from sklearn.model_selection import train_test_split\n",
        "\n",
        "train_set, test_set = train_test_split(\n",
        "    housing_df,\n",
        "    test_size=0.2,\n",
        "    random_state=RANDOM_SEED\n",
        ")\n",
        "\n",
        "print(f\"Train set shape: {train_set.shape}\")\n",
        "print(f\"Test set shape: {test_set.shape}\")"
      ]
    },
    {
      "cell_type": "code",
      "execution_count": 221,
      "metadata": {
        "id": "2WQ3-JIC3_tm"
      },
      "outputs": [],
      "source": [
        "from sklearn.pipeline import Pipeline\n",
        "from sklearn.impute import SimpleImputer\n",
        "from sklearn.preprocessing import StandardScaler\n",
        "from sklearn.preprocessing import OneHotEncoder\n",
        "from sklearn.compose import ColumnTransformer\n",
        "\n",
        "\n",
        "num_pipeline = Pipeline([\n",
        "    (\"imputer\", SimpleImputer(strategy=\"median\")),\n",
        "    (\"std_scaler\", StandardScaler()),\n",
        "])\n",
        "\n",
        "cat_pipeline = Pipeline([\n",
        "    (\"imputer\", SimpleImputer(strategy=\"constant\", fill_value=\"missing\")),\n",
        "    # drop=\"first\" to avoid multicollinearity\n",
        "    (\"one_hot_encoder\", OneHotEncoder(drop=\"first\", handle_unknown=\"ignore\")),\n",
        "])\n",
        "\n",
        "combined_pipeline = ColumnTransformer([\n",
        "    (\"num\", num_pipeline, housing_df.select_dtypes(exclude=[\"object\"]).columns),\n",
        "    (\"cat\", cat_pipeline, housing_df.select_dtypes(include=[\"object\"]).columns),\n",
        "])\n",
        "\n",
        "fit_combined_pipeline = combined_pipeline.fit(train_set)\n"
      ]
    },
    {
      "cell_type": "code",
      "execution_count": 222,
      "metadata": {},
      "outputs": [
        {
          "name": "stdout",
          "output_type": "stream",
          "text": [
            "[ 1.27258656 -1.3728112   0.34849025  0.22256942  0.21122752  0.76827628\n",
            "  0.32290591 -0.326196   -0.90118909  0.          0.          0.\n",
            "  1.        ]\n"
          ]
        }
      ],
      "source": [
        "train_set_prepared = fit_combined_pipeline.transform(train_set)\n",
        "test_set_prepared = fit_combined_pipeline.transform(test_set)\n",
        "\n",
        "del train_set, test_set\n",
        "\n",
        "print(train_set_prepared[0])"
      ]
    },
    {
      "cell_type": "markdown",
      "metadata": {
        "id": "2ZFd6TC_3_ts"
      },
      "source": [
        "- - -\n",
        "## 2. IMPLEMENTING K-MEANS (40 pts)\n",
        "\n",
        "You must implement your own version of K-Means Algorithm. Input a cluster count K and M data points each with its own vector of N features, along with the choice of a distance measure; then:\n",
        "\n",
        "1. Initialize K centroids. In our case, a centroid is just the average of all data in a cluster.\n",
        "2. Assign each data point to the cluster that has the closest centroid base on a **distance measure** below.\n",
        "3. After all data points have been assigned to clusters, recalculate the centroids for each cluster (as averages of all points in the cluster).\n",
        "4. Repeat the data assignments and centroid calculations until no change in housing assignment occurs between iterations.\n",
        "\n",
        "**Distance Measures:** Your implementation must include three distance metrics: Manhattan Distance, Euclidean Distance, Sup Distance. These 3 distance metrics can be generalized by the Minkovski Distance:\n",
        "$D(\\mathbf{x},\\mathbf{y}) = \\sqrt[\\leftroot{2}\\uproot{2}p]{\\sum\\limits_{i=1}^n|x_i - y_i|^p}$ where $p=1$ for Mahattan, $p=2$ for Euclidean, and $p=\\infty$ for Sup Distance.\n",
        "\n",
        "**Implementation Notes:** Note that your functions should return distance measures; that is, the returned value should be high if the two vectors are dissimilar, low if they are similar, and zero if they are completely identical."
      ]
    },
    {
      "cell_type": "code",
      "execution_count": 223,
      "metadata": {
        "id": "SB89ZcCw3_tt"
      },
      "outputs": [
        {
          "name": "stdout",
          "output_type": "stream",
          "text": [
            "Converged after 19 iterations.\n",
            "[[ 7.76642809e-01 -7.62801569e-01  4.88068342e-01 -4.11106423e-01\n",
            "  -3.24989759e-01 -2.15043453e-01 -3.19867799e-01 -4.76177286e-01\n",
            "  -4.10838393e-01  2.52244898e-01  6.12244898e-04  2.44897959e-03\n",
            "   1.51020408e-01]\n",
            " [-1.03913451e+00  1.12745092e+00  1.51453766e-01 -2.57816335e-01\n",
            "  -2.65785916e-01 -3.02116930e-01 -2.73729052e-01 -3.33272321e-01\n",
            "  -4.17815839e-01  5.12115385e-01  0.00000000e+00  2.49230769e-01\n",
            "   8.30769231e-02]\n",
            " [ 2.49212366e-01 -3.31412526e-01 -4.95803877e-01  5.23248038e-01\n",
            "   4.63901525e-01  4.09345128e-01  4.66429084e-01  6.34167931e-01\n",
            "   6.52799515e-01  2.07111666e-01  1.55957580e-04  8.51528384e-02\n",
            "   1.42545228e-01]]\n",
            "[0 0 2 0 1 2 0 2 2 2 1 0 1 2 0 0 1 1 0 0 0 2 1 0 1 1 1 0 0 1 0 2 0 0 2 0 1\n",
            " 0 2 0 2 0 0 2 0 2 1 0 0 0 0 1 1 0 0 2 2 0 0 0 0 0 1 0 2 2 2 0 0 2 1 0 0 2\n",
            " 1 1 0 0 0 2 2 1 0 1 1 0 0 0 2 1 2 1 2 2 2 2 0 0 1 2]\n"
          ]
        }
      ],
      "source": [
        "from enum import Enum\n",
        "import numpy as np\n",
        "\n",
        "class DistanceMetric(Enum):\n",
        "    MANHATTAN = 'manhattan'\n",
        "    EUCLIDEAN = 'euclidean'\n",
        "    SUP = 'sup'\n",
        "\n",
        "class Custom_KMeans:\n",
        "    def __init__(\n",
        "        self, \n",
        "        dataset: np.ndarray,\n",
        "        k: int, \n",
        "        distance_metric: DistanceMetric, \n",
        "        max_iterations: int = 1000\n",
        "    ) -> None:\n",
        "        self.dataset = dataset\n",
        "        self.k = k\n",
        "        self.distance_metric = distance_metric\n",
        "        self.max_iterations = max_iterations\n",
        "        self.centroids: np.ndarray = None\n",
        "        self.labels: np.ndarray = None\n",
        "\n",
        "    def fit(self) -> None:\n",
        "        self._initialize_centroids()\n",
        "        for iteration in range(self.max_iterations):\n",
        "            prev_labels = self.labels.copy() if self.labels is not None else None\n",
        "            self._assign_labels()\n",
        "            self._recompute_centroids()\n",
        "\n",
        "            # Check for convergence\n",
        "            if prev_labels is not None and np.array_equal(self.labels, prev_labels):\n",
        "                print(f\"Converged after {iteration + 1} iterations.\")\n",
        "                break\n",
        "\n",
        "    def _initialize_centroids(self) -> None:\n",
        "        self.centroids = self.dataset[\n",
        "            np.random.choice(self.dataset.shape[0], self.k, replace=False)\n",
        "        ]\n",
        "\n",
        "    def _assign_labels(self) -> None:\n",
        "        self.labels = np.array([\n",
        "            np.argmin([self._minkowski_distance(x, centroid) for centroid in self.centroids])\n",
        "            for x in self.dataset\n",
        "        ])\n",
        "\n",
        "    def _recompute_centroids(self) -> None:\n",
        "        new_centroids = []\n",
        "        for i in range(self.k):\n",
        "            points_in_cluster = self.dataset[self.labels == i]\n",
        "            if points_in_cluster.size == 0:\n",
        "                new_centroid = self.dataset[np.random.choice(self.dataset.shape[0])]\n",
        "                print(f\"Cluster {i} is empty. Reinitializing centroid to a random point.\")\n",
        "            else:\n",
        "                new_centroid = points_in_cluster.mean(axis=0)\n",
        "            new_centroids.append(new_centroid)\n",
        "        self.centroids = np.array(new_centroids)\n",
        "\n",
        "    def _minkowski_distance(self, a: np.ndarray, b: np.ndarray) -> float:\n",
        "        if self.distance_metric == DistanceMetric.SUP:\n",
        "            return np.max(np.abs(a - b))\n",
        "        elif self.distance_metric == DistanceMetric.MANHATTAN:\n",
        "            return np.sum(np.abs(a - b))\n",
        "        elif self.distance_metric == DistanceMetric.EUCLIDEAN:\n",
        "            return np.sqrt(np.sum((a - b) ** 2))\n",
        "        else:\n",
        "            raise ValueError(\"Unsupported distance metric.\")\n",
        "\n",
        "\n",
        "custom_kmeans = Custom_KMeans(\n",
        "    dataset=train_set_prepared,\n",
        "    k=3,\n",
        "    distance_metric=DistanceMetric.SUP,\n",
        "    max_iterations=1000\n",
        ")\n",
        "custom_kmeans.fit()\n",
        "\n",
        "print(custom_kmeans.centroids)\n",
        "print(custom_kmeans.labels[:100])"
      ]
    },
    {
      "cell_type": "markdown",
      "metadata": {
        "id": "t6vW6tyo3_tv"
      },
      "source": [
        "- - -\n",
        "## 3. CLUSTERING HOUSING INTO REGIONS (40 pts)\n",
        "\n",
        "Now that you have implemented the K-Means as the clustering algorithm. Applying the algorithm for k=2 clusters to see if you can split California into a Northern and Southern regions.\n",
        "\n",
        "* **Cluster the data:** Report the SSE (sum squared error), cluster means, within cluster standard deviations for each attribute, etc. Visualize the clustering by plot the latitude along the X axis and longitude along the Y axis. You should get a plot that looks roughly in the shape of California (see Chapter 2 for more details). Using the cluster means and std. deviations as representative values in the cluster, what can you say about the clusters that were found? How do they compare with what you know about cities and areas in California? What can you attribute the gaps to? It will definitely be helpful to have a map of California handy.\n",
        "\n",
        "* **Change the number of clusters:** Increase the value of k from 2 to 3,4,..,10 and repeat the clustering process above. Record cluster means and standard deviations. When you change k, do any additional patterns emerge? If so, what are they? Applying the algorithm for 10 clusters to see if it clearly identified the silicon valley area as one cluster (where houses are relatively new and expensive, median income is high), the area of San Francisco as another etc. While SF and Silicon Valley may have a somewhat similar profile (at least, compared with mid CA), they were separated mainly due to the latitude/longtitue properties, that involve a dimension of geographical cohesiveness.\n",
        "\n",
        "* **Plot the SSE over different number of cluster:** As referenced in the \"elbow plot \" in the lecture, you will reproduce the plot with different number of k, then determine which k produces a result that works best.\n",
        "\n"
      ]
    },
    {
      "cell_type": "code",
      "execution_count": 224,
      "metadata": {
        "id": "Vi058vv73_tw"
      },
      "outputs": [],
      "source": [
        "# Your code goes here\n",
        "\n",
        "\n",
        "# Your paragraph goes here for this section"
      ]
    },
    {
      "cell_type": "markdown",
      "metadata": {
        "id": "NZ4QG5s-3_tz"
      },
      "source": [
        "- - -\n",
        "## 4. WRITING ON THE INTUITION FOR THE CALIFORNIA HOUSING CRISIS (10 pts)\n",
        "\n",
        "This question is a qualitative one, and is intended to let you experiment with a real world clustering task. Hopefully it gives you some intuition as for how the preset number of clusters affects the clustering results. Too few clusters may not reveal the information that is in the data. Too many clusters may hurt data analysis as well, as it may not generalize (and in this sense, it is equivalent to over fitting).\n",
        "\n",
        "Write at least one paragraph to demonstrate your intuition on the California Housing Crisis. You might also want to mention some possible solutions to solve it. You will receive credits based upon your insights and intuitions on this challenge.\n",
        "\n"
      ]
    },
    {
      "cell_type": "markdown",
      "metadata": {
        "id": "5yfa4aHc3_tz"
      },
      "source": [
        "- - -\n",
        "### NEED HELP?"
      ]
    },
    {
      "cell_type": "markdown",
      "metadata": {
        "id": "gBgdTs583_t0"
      },
      "source": [
        "In case you get stuck in any step in the process, you may find some useful information from:\n",
        "\n",
        " * Consult my lectures and/or the textbook\n",
        " * Talk to the TA, they are available and there to help you during their OH.\n",
        " * Come talk to me or email me <nn4pj@virginia.edu> with subject starting \"CS4774 Assignment 2:...\".\n",
        "\n",
        "Best of luck and have fun!"
      ]
    }
  ],
  "metadata": {
    "colab": {
      "provenance": []
    },
    "kernelspec": {
      "display_name": "Python 3",
      "language": "python",
      "name": "python3"
    },
    "language_info": {
      "codemirror_mode": {
        "name": "ipython",
        "version": 3
      },
      "file_extension": ".py",
      "mimetype": "text/x-python",
      "name": "python",
      "nbconvert_exporter": "python",
      "pygments_lexer": "ipython3",
      "version": "3.10.12"
    }
  },
  "nbformat": 4,
  "nbformat_minor": 0
}
